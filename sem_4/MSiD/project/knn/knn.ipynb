{
 "cells": [
  {
   "cell_type": "code",
   "execution_count": 361,
   "metadata": {},
   "outputs": [],
   "source": [
    "# Read data from CSV file\n",
    "# Divide all data for training and validation sets\n",
    "import csv\n",
    "\n",
    "dataset = []\n",
    "with open('data.csv', 'r') as f:\n",
    "    reader = csv.reader(f)\n",
    "    for row in reader:\n",
    "         dataset.append(list(map(int, row)))\n",
    "\n",
    "train_set = dataset\n",
    "test_set = dataset[-10:]"
   ]
  },
  {
   "cell_type": "code",
   "execution_count": 362,
   "metadata": {},
   "outputs": [
    {
     "data": {
      "image/png": "[encoded data removed]",
      "text/plain": [
       "<Figure size 432x288 with 1 Axes>"
      ]
     },
     "metadata": {
      "needs_background": "light"
     },
     "output_type": "display_data"
    }
   ],
   "source": [
    "# Draw plot with individual color for each class\n",
    "import random\n",
    "import numpy as np\n",
    "import matplotlib.pyplot as plt\n",
    "\n",
    "x = list(map(lambda x: x[0], train_set)) # hours\n",
    "y = list(map(lambda x: x[1], train_set)) # ranks\n",
    "\n",
    "color_names = ['lightcoral', 'red', 'chocolate', 'orange', 'gold', 'yellowgreen', 'green', 'turquoise', 'deepskyblue', 'royalblue', 'slateblue', 'blueviolet', 'violet', 'deeppink', 'pink']\n",
    "colors = list(map(lambda y: color_names[y - 1], y))\n",
    "\n",
    "plt.scatter(x, y, c=colors)\n",
    "plt.show()"
   ]
  },
  {
   "cell_type": "code",
   "execution_count": 363,
   "metadata": {},
   "outputs": [],
   "source": [
    "# https://en.wikipedia.org/wiki/Euclidean_distance\n",
    "from math import sqrt\n",
    "\n",
    "def distance(p1, p2):\n",
    "    return sqrt((p2[0] - p1[0]) ** 2 + (p2[1] - p1[1]) ** 2)"
   ]
  },
  {
   "cell_type": "code",
   "execution_count": 364,
   "metadata": {},
   "outputs": [],
   "source": [
    "from pprint import pprint\n",
    "def get_neighbors(n, train_set, test_unit):\n",
    "    distances = []\n",
    "    \n",
    "    # Find distance for each train unit\n",
    "    for train_unit in train_set:\n",
    "        distances.append([train_unit, distance(train_unit, test_unit)])\n",
    "\n",
    "    # Then sort by distance\n",
    "    distances.sort(key=lambda x: x[1])\n",
    "    return list(map(lambda x: x[0], distances[:n]))"
   ]
  },
  {
   "cell_type": "code",
   "execution_count": 365,
   "metadata": {},
   "outputs": [],
   "source": [
    "# Predicts class for test set\n",
    "\n",
    "def predict_class(train_set, test_unit, neighbors_num):\n",
    "    neighbors = get_neighbors(neighbors_num, train_set, test_unit)\n",
    "    outs = [x[1] for x in neighbors]\n",
    "    return max(set(outs), key=outs.count)"
   ]
  },
  {
   "cell_type": "code",
   "execution_count": 366,
   "metadata": {},
   "outputs": [],
   "source": [
    "# Find number of correct values\n",
    "# Test validation set for class\n",
    "\n",
    "def count_total_accuracy(K):\n",
    "    correct = 0\n",
    "    exact = 0\n",
    "    \n",
    "    for test_unit in test_set:\n",
    "        pred = predict_class(train_set, test_unit, K)\n",
    "        if pred == test_unit[1]:\n",
    "            correct += 1\n",
    "        else:\n",
    "            exact += pred - test_unit[1]\n",
    "        # print('[%3s; %2s] = %2s' % (test_unit[0], test_unit[1], pred))\n",
    "\n",
    "    print('Total accuracy: {:.2%}, K = {}'.format(correct / len(validation_set), K))\n",
    "    return correct / len(validation_set)"
   ]
  },
  {
   "cell_type": "code",
   "execution_count": 367,
   "metadata": {},
   "outputs": [
    {
     "name": "stdout",
     "output_type": "stream",
     "text": [
      "Total accuracy: 87.50%, K = 2\n",
      "Total accuracy: 100.00%, K = 3\n",
      "Total accuracy: 87.50%, K = 4\n",
      "Total accuracy: 62.50%, K = 5\n",
      "Total accuracy: 75.00%, K = 6\n",
      "Total accuracy: 87.50%, K = 7\n",
      "Total accuracy: 62.50%, K = 8\n",
      "Accuracy: [1.0, 3]\n"
     ]
    },
    {
     "data": {
      "image/png": "[encoded data removed]",
      "text/plain": [
       "<Figure size 432x288 with 1 Axes>"
      ]
     },
     "metadata": {
      "needs_background": "light"
     },
     "output_type": "display_data"
    }
   ],
   "source": [
    "# Try different K to get best results\n",
    "\n",
    "K = range(2, 9)\n",
    "res = []\n",
    "for k in K:\n",
    "    res.append([count_total_accuracy(k), k])\n",
    "\n",
    "print('Accuracy: {}'.format(max(res)))\n",
    "\n",
    "plt.plot(list(map(lambda x: x[1], res)), list(map(lambda x: x[0], res)))\n",
    "plt.show()"
   ]
  },
  {
   "cell_type": "markdown",
   "metadata": {},
   "source": [
    "#### Про проект\n",
    "Одною з найпопулярніших ігор сьогодні в світі є Counter-Strike: Global Offensive. Звання – це внутрішньоігровий показник навиків гравця. І часто буває, що граючи черговий рейтинговий матч, досить цікаво дізнатися звання своїх тімметів чи гравців з іншої команди. Але система гри не дозволяє переглянути звання гравця до самого завершення матчу. Єдине, як ми змогли б переглянути звання гравця - це проаналізувати кількість зіграних ним годин в грі. Саме тому, я вирішив обрати цю тему для проекту в цілях практичного використання.\n",
    "\n",
    "Отже, в звязку з дозволом малої кількості тренінгових даних, результати класифікації можуть бути неточними і менш наближеними до релаьності. Тому, для менш затратного облічення, в проекті розглядатимемо тільки перших 10 рангів. Всі тренінгові і тестові дані були взяті з Steam форуму (від реальних гравців).\n",
    "\n",
    "Для даної задачі я обрав алгоритм K-NN(K найближчих сусідів). Він не параметричний (а отже незалежний від даних тренінгових), легкий в реалізації для багатокласової класифікації, має тільки один гіпер параметр. Проте, основним мінусом залишається його повільність обчислень, але на наш проект це ніяк не вплине (у нас мало векторів даних)."
   ]
  },
  {
   "cell_type": "markdown",
   "metadata": {},
   "source": [
    "#### Пошук відстані між сусідами\n",
    "\n",
    "Для пошуку відстані між сусідами я вирішив обрати формулу [Еукліда](https://en.wikipedia.org/wiki/Euclidean_distance).\n",
    "![dsd](https://miro.medium.com/max/638/1*EUUQDZQktwUPkdCZaFicSQ.png)\n",
    "\n",
    "#### Реалізація\n",
    "\n",
    " 1. Для кожного тестового юніту шукаємо К найближчих сусідів. \n",
    " 2. З цих К сусідів, шукаємо кількість яких найбільша, вибираємо.\n",
    " 3. Для кожного тестового юніту рахуємо загальну помилку.\n",
    " \n",
    "#### Вибір моделі\n",
    "\n",
    "Вибір моделі полягає в тому, щоб знайти оптимальне значення гіпер параметру К."
   ]
  },
  {
   "cell_type": "code",
   "execution_count": null,
   "metadata": {},
   "outputs": [],
   "source": []
  }
 ],
 "metadata": {
  "kernelspec": {
   "display_name": "Python 3",
   "language": "python",
   "name": "python3"
  },
  "language_info": {
   "codemirror_mode": {
    "name": "ipython",
    "version": 3
   },
   "file_extension": ".py",
   "mimetype": "text/x-python",
   "name": "python",
   "nbconvert_exporter": "python",
   "pygments_lexer": "ipython3",
   "version": "3.7.7"
  }
 },
 "nbformat": 4,
 "nbformat_minor": 4
}
