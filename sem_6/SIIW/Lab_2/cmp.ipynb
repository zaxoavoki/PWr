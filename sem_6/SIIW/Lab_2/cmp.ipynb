{
 "cells": [
  {
   "cell_type": "code",
   "execution_count": 289,
   "metadata": {},
   "outputs": [],
   "source": [
    "import math\n",
    "import numpy as np\n",
    "import random as rd\n",
    "import tkinter as tk\n",
    "from shapely.geometry import LineString"
   ]
  },
  {
   "cell_type": "code",
   "execution_count": 290,
   "metadata": {},
   "outputs": [],
   "source": [
    "FILENAME = 'test0.txt'\n",
    "LINE_DIS = 40\n",
    "POINT_RADIUS = 5\n",
    "COLORS = ['red', 'blue', 'green']\n",
    "\n",
    "# For tests\n",
    "F_WIDTH = 10\n",
    "F_HEIGHT = 10\n",
    "POINTS_NUMBER = 4\n",
    "\n",
    "# rd.seed(200)"
   ]
  },
  {
   "cell_type": "code",
   "execution_count": 291,
   "metadata": {},
   "outputs": [
    {
     "name": "stdout",
     "output_type": "stream",
     "text": [
      "[[80, 360], [40, 400], [40, 240], [280, 240]]\n"
     ]
    }
   ],
   "source": [
    "# Return true if line segments AB and CD intersect\n",
    "def intersect(A, B, C, D):\n",
    "    if A == C or A == D or B == C or B == D:\n",
    "        return False\n",
    "    return LineString([A, B]).intersects(LineString([C, D]))\n",
    "\n",
    "\n",
    "def read_file(filename):\n",
    "    with open('./data/' + filename, 'r') as f:\n",
    "        # Return array with points, max width and height of the field\n",
    "        coords = [ list(map(int, x.split(';'))) for x in f.readlines() ]\n",
    "        return coords, np.max(np.array(coords)[:,0]), np.max(np.array(coords)[:,1])\n",
    "\n",
    "\n",
    "# coords, F_WIDTH, F_HEIGHT = read_file(FILENAME)\n",
    "\n",
    "coords = [ [rd.randint(1, F_WIDTH), rd.randint(1, F_HEIGHT) ] for _ in range(POINTS_NUMBER) ]\n",
    "coords = [ [ x * LINE_DIS, y * LINE_DIS ] for x, y in coords ]\n",
    "\n",
    "print(coords)"
   ]
  },
  {
   "cell_type": "code",
   "execution_count": 292,
   "metadata": {},
   "outputs": [],
   "source": [
    "class GUI:\n",
    "    def __init__(self, f_width, f_height):\n",
    "        self.f_width = f_width\n",
    "        self.f_height = f_height\n",
    "\n",
    "        self.root = tk.Tk()\n",
    "        self.root.title('Problem kolorowania mapy')\n",
    "        self.root.resizable(False, False)\n",
    "\n",
    "        self.canvas = tk.Canvas(self.root, width=(1 + f_width) * LINE_DIS, height=(1 + f_height) * LINE_DIS, bg=\"#fff\")\n",
    "        self.canvas.pack()\n",
    "        self.root.update()\n",
    "\n",
    "    def draw_circle(self, x, y, radius=POINT_RADIUS, color='#000'):\n",
    "        self.canvas.create_oval(x - radius, y - radius, x + radius, y + radius, fill=color, outline='')\n",
    "\n",
    "    def draw_background(self):\n",
    "        for i in range(1, self.f_height + 1):\n",
    "            for j in range(1, self.f_width + 1):\n",
    "                self.draw_circle(i * LINE_DIS, j * LINE_DIS, color='#eee')\n",
    "\n",
    "    def draw_line(self, x1, y1, x2, y2):\n",
    "        self.canvas.create_line(x1, y1, x2, y2, fill=\"#242424\")\n",
    "\n",
    "    def draw_color_points(self, coords, colors):\n",
    "        for point, color in zip(coords, colors):\n",
    "            self.draw_circle(*point, color=COLORS[color - 1])\n",
    "\n",
    "    def draw_points(self, coords):\n",
    "        for co in coords:\n",
    "            self.draw_circle(*co)"
   ]
  },
  {
   "cell_type": "code",
   "execution_count": 293,
   "metadata": {},
   "outputs": [],
   "source": [
    "gui = GUI(F_WIDTH, F_HEIGHT)\n",
    "gui.draw_background()"
   ]
  },
  {
   "cell_type": "code",
   "execution_count": 294,
   "metadata": {},
   "outputs": [
    {
     "data": {
      "text/plain": "[[[80, 360], [40, 400]],\n [[40, 240], [80, 360]],\n [[280, 240], [80, 360]],\n [[40, 400], [40, 240]],\n [[280, 240], [40, 240]],\n [[40, 400], [280, 240]]]"
     },
     "execution_count": 294,
     "metadata": {},
     "output_type": "execute_result"
    }
   ],
   "source": [
    "lines = []\n",
    "\n",
    "for _ in range(3):\n",
    "    rd.shuffle(coords)\n",
    "    for X in coords:\n",
    "        # Sort by euclidean distance and get the first nearest\n",
    "        dstn = sorted(coords, key=lambda point: math.dist(point, X))\n",
    "\n",
    "        for Y in dstn[1:]:\n",
    "            # If two points on the line have been already chosen\n",
    "            if [X, Y] in lines or [Y, X] in lines: continue\n",
    "            \n",
    "            # Check if current line intersects any other\n",
    "            if any(map(lambda x: intersect(X, Y, *x), lines)): continue\n",
    "\n",
    "            gui.draw_line(*X, *Y)\n",
    "            lines.append([X, Y])\n",
    "            break\n",
    "\n",
    "lines"
   ]
  },
  {
   "cell_type": "code",
   "execution_count": 295,
   "metadata": {},
   "outputs": [
    {
     "name": "stdout",
     "output_type": "stream",
     "text": [
      "Solution does not exists\n"
     ]
    }
   ],
   "source": [
    "solutions = []\n",
    "\n",
    "# Make graph from coords\n",
    "color = [0] * len(coords)\n",
    "graph = [ [0] * len(coords) for _ in range(len(coords)) ]\n",
    "for s, e in lines:\n",
    "    r = coords.index(s)\n",
    "    c = coords.index(e)\n",
    "    graph[r][c] = 1\n",
    "\n",
    "\n",
    "def rbt(graph, m, i, color) -> bool:\n",
    "    if i == len(graph):\n",
    "        return is_complete(graph, color)\n",
    "\n",
    "    for j in range(1, m + 1):\n",
    "        color[i] = j\n",
    "\n",
    "        if rbt(graph, m, i + 1, color):\n",
    "            return True\n",
    "        color[i] = 0\n",
    "    return False\n",
    "\n",
    "\n",
    "def is_complete(graph, color) -> bool:\n",
    "    return not any( graph[i][j] and color[j] == color[i] for i in range(len(graph)) for j in range(len(graph[i])) )\n",
    "\n",
    "\n",
    "res = rbt(graph, len(COLORS), 0, color)\n",
    "print('Solution does not exists' if not res else color)"
   ]
  },
  {
   "cell_type": "markdown",
   "metadata": {},
   "source": [
    "### CSP - map-coloring problem\n",
    "\n",
    "- Variables - points (regions)\n",
    "- Domains - colors (red, blue, green, etc)\n",
    "- Contraints - adjacent regions must have different colors"
   ]
  },
  {
   "cell_type": "code",
   "execution_count": 296,
   "metadata": {},
   "outputs": [],
   "source": [
    "gui.draw_color_points(coords, color)\n",
    "# gui.draw_points(coords)\n",
    "gui.root.mainloop()"
   ]
  }
 ],
 "metadata": {
  "kernelspec": {
   "display_name": "Python 3.9.1 64-bit",
   "name": "python391jvsc74a57bd0ac59ebe37160ed0dfa835113d9b8498d9f09ceb179beaac4002f036b9467c963"
  },
  "language_info": {
   "codemirror_mode": {
    "name": "ipython",
    "version": 3
   },
   "file_extension": ".py",
   "mimetype": "text/x-python",
   "name": "python",
   "nbconvert_exporter": "python",
   "pygments_lexer": "ipython3",
   "version": "3.9.1"
  },
  "metadata": {
   "interpreter": {
    "hash": "ac59ebe37160ed0dfa835113d9b8498d9f09ceb179beaac4002f036b9467c963"
   }
  },
  "orig_nbformat": 2
 },
 "nbformat": 4,
 "nbformat_minor": 2
}